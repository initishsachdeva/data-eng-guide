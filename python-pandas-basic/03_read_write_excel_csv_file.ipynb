{
 "cells": [
  {
   "cell_type": "code",
   "execution_count": 8,
   "metadata": {},
   "outputs": [],
   "source": [
    "import pandas as pd"
   ]
  },
  {
   "cell_type": "markdown",
   "metadata": {},
   "source": [
    "# suppose if you have an extra column at start or you want to skip first row and start reading from 2nd row, then use skiprows= 1 it will skip the first row.\n",
    "# We can also use header = 1 to start reading from first, if there is no headers then use header = None. Using this it will automatically provide col name like 0,1,2,3 etc\n",
    "# if you want to name the cols use header = None , names =[\"header1\", \"header 2\"]"
   ]
  },
  {
   "cell_type": "code",
   "execution_count": 9,
   "metadata": {},
   "outputs": [
    {
     "data": {
      "text/html": [
       "<div>\n",
       "<style scoped>\n",
       "    .dataframe tbody tr th:only-of-type {\n",
       "        vertical-align: middle;\n",
       "    }\n",
       "\n",
       "    .dataframe tbody tr th {\n",
       "        vertical-align: top;\n",
       "    }\n",
       "\n",
       "    .dataframe thead th {\n",
       "        text-align: right;\n",
       "    }\n",
       "</style>\n",
       "<table border=\"1\" class=\"dataframe\">\n",
       "  <thead>\n",
       "    <tr style=\"text-align: right;\">\n",
       "      <th></th>\n",
       "      <th>tickers</th>\n",
       "      <th>eps</th>\n",
       "      <th>revenue</th>\n",
       "      <th>price</th>\n",
       "      <th>people</th>\n",
       "    </tr>\n",
       "  </thead>\n",
       "  <tbody>\n",
       "    <tr>\n",
       "      <th>0</th>\n",
       "      <td>googl</td>\n",
       "      <td>27.27</td>\n",
       "      <td>50</td>\n",
       "      <td>666</td>\n",
       "      <td>larry page</td>\n",
       "    </tr>\n",
       "    <tr>\n",
       "      <th>1</th>\n",
       "      <td>wdd</td>\n",
       "      <td>12</td>\n",
       "      <td>60</td>\n",
       "      <td>55</td>\n",
       "      <td>n.a.</td>\n",
       "    </tr>\n",
       "    <tr>\n",
       "      <th>2</th>\n",
       "      <td>ww</td>\n",
       "      <td>13</td>\n",
       "      <td>40</td>\n",
       "      <td>433</td>\n",
       "      <td>usjm</td>\n",
       "    </tr>\n",
       "    <tr>\n",
       "      <th>3</th>\n",
       "      <td>fgd</td>\n",
       "      <td>-1</td>\n",
       "      <td>50</td>\n",
       "      <td>66</td>\n",
       "      <td>asuhjd</td>\n",
       "    </tr>\n",
       "    <tr>\n",
       "      <th>4</th>\n",
       "      <td>tyr</td>\n",
       "      <td>not available</td>\n",
       "      <td>-1</td>\n",
       "      <td>788</td>\n",
       "      <td>jsss</td>\n",
       "    </tr>\n",
       "    <tr>\n",
       "      <th>5</th>\n",
       "      <td>tata</td>\n",
       "      <td>5.6</td>\n",
       "      <td>30</td>\n",
       "      <td>n.a</td>\n",
       "      <td>ratan tata</td>\n",
       "    </tr>\n",
       "  </tbody>\n",
       "</table>\n",
       "</div>"
      ],
      "text/plain": [
       "  tickers            eps  revenue price      people\n",
       "0   googl          27.27       50   666  larry page\n",
       "1     wdd             12       60    55        n.a.\n",
       "2      ww             13       40   433        usjm\n",
       "3     fgd             -1       50    66      asuhjd\n",
       "4     tyr  not available       -1   788        jsss\n",
       "5    tata            5.6       30   n.a  ratan tata"
      ]
     },
     "execution_count": 9,
     "metadata": {},
     "output_type": "execute_result"
    }
   ],
   "source": [
    "df= pd.read_csv(\"03_read_write.csv\", skiprows= None)\n",
    "df"
   ]
  },
  {
   "cell_type": "markdown",
   "metadata": {},
   "source": [
    "# if you have N.A or not available as a values in csv file then use na_values =[\"not available\", \"n.a.\"] . Usin this it will replace all not available or n.a. values in your csv file with NAN\n",
    "# it will help data cleaning activity"
   ]
  },
  {
   "cell_type": "code",
   "execution_count": 10,
   "metadata": {},
   "outputs": [
    {
     "data": {
      "text/html": [
       "<div>\n",
       "<style scoped>\n",
       "    .dataframe tbody tr th:only-of-type {\n",
       "        vertical-align: middle;\n",
       "    }\n",
       "\n",
       "    .dataframe tbody tr th {\n",
       "        vertical-align: top;\n",
       "    }\n",
       "\n",
       "    .dataframe thead th {\n",
       "        text-align: right;\n",
       "    }\n",
       "</style>\n",
       "<table border=\"1\" class=\"dataframe\">\n",
       "  <thead>\n",
       "    <tr style=\"text-align: right;\">\n",
       "      <th></th>\n",
       "      <th>tickers</th>\n",
       "      <th>eps</th>\n",
       "      <th>revenue</th>\n",
       "      <th>price</th>\n",
       "      <th>people</th>\n",
       "    </tr>\n",
       "  </thead>\n",
       "  <tbody>\n",
       "    <tr>\n",
       "      <th>0</th>\n",
       "      <td>googl</td>\n",
       "      <td>27.27</td>\n",
       "      <td>50</td>\n",
       "      <td>666.0</td>\n",
       "      <td>larry page</td>\n",
       "    </tr>\n",
       "    <tr>\n",
       "      <th>1</th>\n",
       "      <td>wdd</td>\n",
       "      <td>12.00</td>\n",
       "      <td>60</td>\n",
       "      <td>55.0</td>\n",
       "      <td>NaN</td>\n",
       "    </tr>\n",
       "    <tr>\n",
       "      <th>2</th>\n",
       "      <td>ww</td>\n",
       "      <td>13.00</td>\n",
       "      <td>40</td>\n",
       "      <td>433.0</td>\n",
       "      <td>usjm</td>\n",
       "    </tr>\n",
       "    <tr>\n",
       "      <th>3</th>\n",
       "      <td>fgd</td>\n",
       "      <td>-1.00</td>\n",
       "      <td>50</td>\n",
       "      <td>66.0</td>\n",
       "      <td>asuhjd</td>\n",
       "    </tr>\n",
       "    <tr>\n",
       "      <th>4</th>\n",
       "      <td>tyr</td>\n",
       "      <td>NaN</td>\n",
       "      <td>-1</td>\n",
       "      <td>788.0</td>\n",
       "      <td>jsss</td>\n",
       "    </tr>\n",
       "    <tr>\n",
       "      <th>5</th>\n",
       "      <td>tata</td>\n",
       "      <td>5.60</td>\n",
       "      <td>30</td>\n",
       "      <td>NaN</td>\n",
       "      <td>ratan tata</td>\n",
       "    </tr>\n",
       "  </tbody>\n",
       "</table>\n",
       "</div>"
      ],
      "text/plain": [
       "  tickers    eps  revenue  price      people\n",
       "0   googl  27.27       50  666.0  larry page\n",
       "1     wdd  12.00       60   55.0         NaN\n",
       "2      ww  13.00       40  433.0        usjm\n",
       "3     fgd  -1.00       50   66.0      asuhjd\n",
       "4     tyr    NaN       -1  788.0        jsss\n",
       "5    tata   5.60       30    NaN  ratan tata"
      ]
     },
     "execution_count": 10,
     "metadata": {},
     "output_type": "execute_result"
    }
   ],
   "source": [
    "df= pd.read_csv(\"03_read_write.csv\", na_values=[\"not available\", \"n.a.\", \"n.a\"])\n",
    "df"
   ]
  },
  {
   "cell_type": "markdown",
   "metadata": {},
   "source": [
    "# if you want to update negative values to NAN then use dictionary to the specific col where you want to upgrade it to NAN"
   ]
  },
  {
   "cell_type": "code",
   "execution_count": 12,
   "metadata": {},
   "outputs": [
    {
     "data": {
      "text/html": [
       "<div>\n",
       "<style scoped>\n",
       "    .dataframe tbody tr th:only-of-type {\n",
       "        vertical-align: middle;\n",
       "    }\n",
       "\n",
       "    .dataframe tbody tr th {\n",
       "        vertical-align: top;\n",
       "    }\n",
       "\n",
       "    .dataframe thead th {\n",
       "        text-align: right;\n",
       "    }\n",
       "</style>\n",
       "<table border=\"1\" class=\"dataframe\">\n",
       "  <thead>\n",
       "    <tr style=\"text-align: right;\">\n",
       "      <th></th>\n",
       "      <th>tickers</th>\n",
       "      <th>eps</th>\n",
       "      <th>revenue</th>\n",
       "      <th>price</th>\n",
       "      <th>people</th>\n",
       "    </tr>\n",
       "  </thead>\n",
       "  <tbody>\n",
       "    <tr>\n",
       "      <th>0</th>\n",
       "      <td>googl</td>\n",
       "      <td>27.27</td>\n",
       "      <td>50.0</td>\n",
       "      <td>666.0</td>\n",
       "      <td>larry page</td>\n",
       "    </tr>\n",
       "    <tr>\n",
       "      <th>1</th>\n",
       "      <td>wdd</td>\n",
       "      <td>12.00</td>\n",
       "      <td>60.0</td>\n",
       "      <td>55.0</td>\n",
       "      <td>NaN</td>\n",
       "    </tr>\n",
       "    <tr>\n",
       "      <th>2</th>\n",
       "      <td>ww</td>\n",
       "      <td>13.00</td>\n",
       "      <td>40.0</td>\n",
       "      <td>433.0</td>\n",
       "      <td>usjm</td>\n",
       "    </tr>\n",
       "    <tr>\n",
       "      <th>3</th>\n",
       "      <td>fgd</td>\n",
       "      <td>-1.00</td>\n",
       "      <td>50.0</td>\n",
       "      <td>66.0</td>\n",
       "      <td>asuhjd</td>\n",
       "    </tr>\n",
       "    <tr>\n",
       "      <th>4</th>\n",
       "      <td>tyr</td>\n",
       "      <td>NaN</td>\n",
       "      <td>NaN</td>\n",
       "      <td>788.0</td>\n",
       "      <td>jsss</td>\n",
       "    </tr>\n",
       "    <tr>\n",
       "      <th>5</th>\n",
       "      <td>tata</td>\n",
       "      <td>5.60</td>\n",
       "      <td>30.0</td>\n",
       "      <td>NaN</td>\n",
       "      <td>ratan tata</td>\n",
       "    </tr>\n",
       "  </tbody>\n",
       "</table>\n",
       "</div>"
      ],
      "text/plain": [
       "  tickers    eps  revenue  price      people\n",
       "0   googl  27.27     50.0  666.0  larry page\n",
       "1     wdd  12.00     60.0   55.0         NaN\n",
       "2      ww  13.00     40.0  433.0        usjm\n",
       "3     fgd  -1.00     50.0   66.0      asuhjd\n",
       "4     tyr    NaN      NaN  788.0        jsss\n",
       "5    tata   5.60     30.0    NaN  ratan tata"
      ]
     },
     "execution_count": 12,
     "metadata": {},
     "output_type": "execute_result"
    }
   ],
   "source": [
    "df= pd.read_csv(\"03_read_write.csv\", na_values= {\n",
    "\"eps\": [\"not available\", \"n.a.\", \"n.a\"],\n",
    "\"revenue\": [\"not available\", \"n.a.\", \"n.a\", -1],\n",
    "\"price\": [\"not available\", \"n.a.\", \"n.a\"],\n",
    "\"people\": [\"not available\", \"n.a.\", \"n.a\"]\n",
    "})\n",
    "df"
   ]
  },
  {
   "cell_type": "markdown",
   "metadata": {},
   "source": [
    "# if you want to write above datasets into new cs file then use df.to_csv(\"filename). \n",
    "# by default it will write index too, but to avoid it just pass index= False"
   ]
  },
  {
   "cell_type": "code",
   "execution_count": 16,
   "metadata": {},
   "outputs": [],
   "source": [
    "df.to_csv(\"03_writing_to_csv_file.csv\", index=False)"
   ]
  },
  {
   "cell_type": "markdown",
   "metadata": {},
   "source": [
    "# if you want to write specific columns then use columns argument and pass column name\n",
    "# also if you want skip header name for writing into csv then use header = false"
   ]
  },
  {
   "cell_type": "code",
   "execution_count": 20,
   "metadata": {},
   "outputs": [],
   "source": [
    "df.columns\n",
    "df.to_csv(\"03_writing_few_cols.csv\", index=False,header=False, columns=[\"tickers\", \"eps\"])"
   ]
  },
  {
   "cell_type": "markdown",
   "metadata": {},
   "source": [
    "# if you want to read 3 rows then use nrows= 3 for eg"
   ]
  },
  {
   "cell_type": "code",
   "execution_count": 11,
   "metadata": {},
   "outputs": [
    {
     "data": {
      "text/html": [
       "<div>\n",
       "<style scoped>\n",
       "    .dataframe tbody tr th:only-of-type {\n",
       "        vertical-align: middle;\n",
       "    }\n",
       "\n",
       "    .dataframe tbody tr th {\n",
       "        vertical-align: top;\n",
       "    }\n",
       "\n",
       "    .dataframe thead th {\n",
       "        text-align: right;\n",
       "    }\n",
       "</style>\n",
       "<table border=\"1\" class=\"dataframe\">\n",
       "  <thead>\n",
       "    <tr style=\"text-align: right;\">\n",
       "      <th></th>\n",
       "      <th>tickers</th>\n",
       "      <th>eps</th>\n",
       "      <th>revenue</th>\n",
       "      <th>price</th>\n",
       "      <th>people</th>\n",
       "    </tr>\n",
       "  </thead>\n",
       "  <tbody>\n",
       "    <tr>\n",
       "      <th>0</th>\n",
       "      <td>googl</td>\n",
       "      <td>27.27</td>\n",
       "      <td>50</td>\n",
       "      <td>666</td>\n",
       "      <td>larry page</td>\n",
       "    </tr>\n",
       "    <tr>\n",
       "      <th>1</th>\n",
       "      <td>wdd</td>\n",
       "      <td>12.00</td>\n",
       "      <td>60</td>\n",
       "      <td>55</td>\n",
       "      <td>n.a.</td>\n",
       "    </tr>\n",
       "    <tr>\n",
       "      <th>2</th>\n",
       "      <td>ww</td>\n",
       "      <td>13.00</td>\n",
       "      <td>40</td>\n",
       "      <td>433</td>\n",
       "      <td>usjm</td>\n",
       "    </tr>\n",
       "  </tbody>\n",
       "</table>\n",
       "</div>"
      ],
      "text/plain": [
       "  tickers    eps  revenue  price      people\n",
       "0   googl  27.27       50    666  larry page\n",
       "1     wdd  12.00       60     55        n.a.\n",
       "2      ww  13.00       40    433        usjm"
      ]
     },
     "execution_count": 11,
     "metadata": {},
     "output_type": "execute_result"
    }
   ],
   "source": [
    "df= pd.read_csv(\"03_read_write.csv\", nrows=3)\n",
    "df"
   ]
  }
 ],
 "metadata": {
  "kernelspec": {
   "display_name": "Python 3",
   "language": "python",
   "name": "python3"
  },
  "language_info": {
   "codemirror_mode": {
    "name": "ipython",
    "version": 3
   },
   "file_extension": ".py",
   "mimetype": "text/x-python",
   "name": "python",
   "nbconvert_exporter": "python",
   "pygments_lexer": "ipython3",
   "version": "3.11.2"
  }
 },
 "nbformat": 4,
 "nbformat_minor": 2
}
