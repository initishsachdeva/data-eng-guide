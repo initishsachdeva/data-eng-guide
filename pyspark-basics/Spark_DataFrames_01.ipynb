{
 "cells": [
  {
   "cell_type": "markdown",
   "metadata": {},
   "source": [
    "# Databricks \n",
    "# 1. Create a cluster , then  create a notebook for you then selelct the language like python.\n",
    "# 2. Start using the notebook with the datasets"
   ]
  },
  {
   "cell_type": "markdown",
   "metadata": {},
   "source": [
    "# Below is the code used for creating spark dataframes by reading csv datsets. there are 2 ways to read csv datasets\n",
    "\n"
   ]
  },
  {
   "cell_type": "markdown",
   "metadata": {},
   "source": [
    "# 1. "
   ]
  },
  {
   "cell_type": "code",
   "execution_count": null,
   "metadata": {},
   "outputs": [],
   "source": [
    "fire_df = spark.read \\\n",
    "            .format(\"csv\") \\\n",
    "            .option(\"header\", \"true\") \\\n",
    "            .option(\"inferSchema\", \"true\").load(\"/databricks-datasets/learning-spark-v2/sf-fire/sf-fire-calls.csv\")    "
   ]
  },
  {
   "cell_type": "markdown",
   "metadata": {},
   "source": [
    "# 2. \n"
   ]
  },
  {
   "cell_type": "code",
   "execution_count": null,
   "metadata": {},
   "outputs": [],
   "source": [
    "fire_df = spark.read \\\n",
    "            .csv(\"/databricks-datasets/learning-spark-v2/sf-fire/sf-fire-calls.csv\",\n",
    "                 header = \"true\",\n",
    "                 inferSchema=\"true\")"
   ]
  },
  {
   "cell_type": "code",
   "execution_count": null,
   "metadata": {},
   "outputs": [],
   "source": [
    "# to see dataframe content use show method\n",
    "fire_df.show(10)            # passing 10 to see first 10 records\n",
    "# but the data won't be in tabular format therefore use display method\n",
    "display(fire_df) # provided by databricks to see data in tabular format like databases"
   ]
  },
  {
   "cell_type": "markdown",
   "metadata": {},
   "source": [
    "# to create a view from the created dataframe in databricks. After creating you can use any sql expressions to fetch modify  the data from it"
   ]
  },
  {
   "cell_type": "code",
   "execution_count": null,
   "metadata": {},
   "outputs": [],
   "source": [
    "fire_df.createGlobalTempView(\"fire_service_view\")"
   ]
  },
  {
   "cell_type": "code",
   "execution_count": null,
   "metadata": {
    "vscode": {
     "languageId": "sql"
    }
   },
   "outputs": [],
   "source": [
    "%sql\n",
    "select * from global_temp.fire_service_view"
   ]
  },
  {
   "cell_type": "markdown",
   "metadata": {},
   "source": []
  }
 ],
 "metadata": {
  "language_info": {
   "name": "python"
  }
 },
 "nbformat": 4,
 "nbformat_minor": 2
}
