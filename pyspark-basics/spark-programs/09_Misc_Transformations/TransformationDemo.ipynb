{
 "cells": [
  {
   "cell_type": "markdown",
   "metadata": {},
   "source": [
    "# Here we will discuss following topics :\n",
    "1. Method to create dataframes\n",
    "2. Adding monotonically increasing id\n",
    "3. Use CASE WHEN THEN Transformation\n",
    "4. Casting your columns\n",
    "5. Adding columns to Dataframes\n",
    "6. Dropping columns\n",
    "7. Dropping duplicate rows\n",
    "8. Sorting Dataframes"
   ]
  },
  {
   "cell_type": "code",
   "execution_count": 38,
   "metadata": {},
   "outputs": [],
   "source": [
    "import os\n",
    "import sys\n",
    "from pyspark.sql import SparkSession\n",
    "from pyspark.sql.functions import col, monotonically_increasing_id, when, expr\n",
    "from pyspark.sql.types import *\n",
    "\n",
    "os.environ['PYSPARK_PYTHON'] = sys.executable\n",
    "os.environ['PYSPARK_DRIVER_PYTHON'] = sys.executable\n",
    "\n",
    "spark = SparkSession.builder \\\n",
    "                    .appName(\"Spark Exploring Columns Demo\") \\\n",
    "                    .master(\"local[3]\") \\\n",
    "                    .enableHiveSupport() \\\n",
    "                    .getOrCreate()"
   ]
  },
  {
   "cell_type": "markdown",
   "metadata": {},
   "source": [
    "# 1. Method to create dataframes\n"
   ]
  },
  {
   "cell_type": "code",
   "execution_count": 39,
   "metadata": {},
   "outputs": [
    {
     "name": "stdout",
     "output_type": "stream",
     "text": [
      "+----+---+---+----+\n",
      "|  _1| _2| _3|  _4|\n",
      "+----+---+---+----+\n",
      "|Ravi| 28|  1|2002|\n",
      "| Abd| 23|  5|  81|\n",
      "|John| 12| 12|   6|\n",
      "|Rosy|  7|  8|  63|\n",
      "| Abd| 23|  5|  81|\n",
      "+----+---+---+----+\n",
      "\n"
     ]
    }
   ],
   "source": [
    "data_list = [(\"Ravi\", \"28\", \"1\", \"2002\"),\n",
    "                 (\"Abd\", \"23\", \"5\", \"81\"),  # 1981\n",
    "                 (\"John\", \"12\", \"12\", \"6\"),  # 2006\n",
    "                 (\"Rosy\", \"7\", \"8\", \"63\"),  # 1963\n",
    "                 (\"Abd\", \"23\", \"5\", \"81\")]  # 1981\n",
    "raw_df = spark.createDataFrame(data_list)\n",
    "raw_df.show()                 "
   ]
  },
  {
   "cell_type": "code",
   "execution_count": 40,
   "metadata": {},
   "outputs": [
    {
     "name": "stdout",
     "output_type": "stream",
     "text": [
      "+----+---+-----+----+\n",
      "|name|day|month|year|\n",
      "+----+---+-----+----+\n",
      "|Ravi| 28|    1|2002|\n",
      "| Abd| 23|    5|  81|\n",
      "| Abd| 23|    5|  81|\n",
      "|John| 12|   12|   6|\n",
      "|Rosy|  7|    8|  63|\n",
      "+----+---+-----+----+\n",
      "\n"
     ]
    }
   ],
   "source": [
    "# to assign menigful names to the columns\n",
    "raw_df = spark.createDataFrame(data_list).toDF(\"name\" , \"day\", \"month\", \"year\").repartition(3)\n",
    "raw_df.show()\n"
   ]
  },
  {
   "cell_type": "markdown",
   "metadata": {},
   "source": [
    "#  2. Adding monotonically increasing id"
   ]
  },
  {
   "cell_type": "code",
   "execution_count": 41,
   "metadata": {},
   "outputs": [
    {
     "name": "stdout",
     "output_type": "stream",
     "text": [
      "+----+---+-----+----+-----------+\n",
      "|name|day|month|year|         id|\n",
      "+----+---+-----+----+-----------+\n",
      "|Ravi| 28|    1|2002|          0|\n",
      "| Abd| 23|    5|  81|          1|\n",
      "| Abd| 23|    5|  81| 8589934592|\n",
      "|John| 12|   12|   6|17179869184|\n",
      "|Rosy|  7|    8|  63|17179869185|\n",
      "+----+---+-----+----+-----------+\n",
      "\n"
     ]
    }
   ],
   "source": [
    "df1 = raw_df.withColumn(\"id\", monotonically_increasing_id())\n",
    "df1.show()"
   ]
  },
  {
   "cell_type": "markdown",
   "metadata": {},
   "source": [
    "# 3. Use CASE WHEN THEN Transformation\n"
   ]
  },
  {
   "cell_type": "code",
   "execution_count": 42,
   "metadata": {},
   "outputs": [
    {
     "name": "stdout",
     "output_type": "stream",
     "text": [
      "+----+---+-----+------+-----------+\n",
      "|name|day|month|  year|         id|\n",
      "+----+---+-----+------+-----------+\n",
      "|Ravi| 28|    1|  2002|          0|\n",
      "| Abd| 23|    5|1981.0|          1|\n",
      "| Abd| 23|    5|1981.0| 8589934592|\n",
      "|John| 12|   12|2006.0|17179869184|\n",
      "|Rosy|  7|    8|1963.0|17179869185|\n",
      "+----+---+-----+------+-----------+\n",
      "\n",
      "root\n",
      " |-- name: string (nullable = true)\n",
      " |-- day: string (nullable = true)\n",
      " |-- month: string (nullable = true)\n",
      " |-- year: string (nullable = true)\n",
      " |-- id: long (nullable = false)\n",
      "\n"
     ]
    }
   ],
   "source": [
    "df2 = df1.withColumn(\"year\", expr(\"\"\"\n",
    "case when year <21 then year + 2000\n",
    "     when year <100 then year + 1900\n",
    "     else year                           \n",
    "end \"\"\"\n",
    "))\n",
    "df2.show()\n",
    "df2.printSchema()"
   ]
  },
  {
   "cell_type": "markdown",
   "metadata": {},
   "source": [
    "# 4. Casting your columns\n"
   ]
  },
  {
   "cell_type": "code",
   "execution_count": 43,
   "metadata": {},
   "outputs": [
    {
     "name": "stdout",
     "output_type": "stream",
     "text": [
      "+----+---+-----+----+-----------+\n",
      "|name|day|month|year|         id|\n",
      "+----+---+-----+----+-----------+\n",
      "|Ravi| 28|    1|2002|          0|\n",
      "| Abd| 23|    5|1981|          1|\n",
      "| Abd| 23|    5|1981| 8589934592|\n",
      "|John| 12|   12|2006|17179869184|\n",
      "|Rosy|  7|    8|1963|17179869185|\n",
      "+----+---+-----+----+-----------+\n",
      "\n",
      "root\n",
      " |-- name: string (nullable = true)\n",
      " |-- day: string (nullable = true)\n",
      " |-- month: string (nullable = true)\n",
      " |-- year: string (nullable = true)\n",
      " |-- id: long (nullable = false)\n",
      "\n"
     ]
    }
   ],
   "source": [
    "# inline cast\n",
    "df2 = df1.withColumn(\"year\", expr(\"\"\"\n",
    "case when year <21 then cast(year as int) + 2000\n",
    "     when year <100 then cast(year as int) + 1900\n",
    "     else year                           \n",
    "end \"\"\"\n",
    "))\n",
    "df2.show()\n",
    "df2.printSchema()"
   ]
  },
  {
   "cell_type": "code",
   "execution_count": 44,
   "metadata": {},
   "outputs": [
    {
     "name": "stdout",
     "output_type": "stream",
     "text": [
      "+----+---+-----+----+-----------+\n",
      "|name|day|month|year|         id|\n",
      "+----+---+-----+----+-----------+\n",
      "|Ravi| 28|    1|2002|          0|\n",
      "| Abd| 23|    5|1981|          1|\n",
      "| Abd| 23|    5|1981| 8589934592|\n",
      "|John| 12|   12|2006|17179869184|\n",
      "|Rosy|  7|    8|1963|17179869185|\n",
      "+----+---+-----+----+-----------+\n",
      "\n",
      "root\n",
      " |-- name: string (nullable = true)\n",
      " |-- day: string (nullable = true)\n",
      " |-- month: string (nullable = true)\n",
      " |-- year: integer (nullable = true)\n",
      " |-- id: long (nullable = false)\n",
      "\n"
     ]
    }
   ],
   "source": [
    "# change the schema\n",
    "df2 = df1.withColumn(\"year\", expr(\"\"\"\n",
    "case when year <21 then year + 2000\n",
    "     when year <100 then year + 1900\n",
    "     else year                           \n",
    "end \"\"\"\n",
    ").cast(IntegerType()))\n",
    "df2.show()\n",
    "df2.printSchema()"
   ]
  },
  {
   "cell_type": "code",
   "execution_count": 45,
   "metadata": {},
   "outputs": [
    {
     "name": "stdout",
     "output_type": "stream",
     "text": [
      "+----+---+-----+----+-----------+\n",
      "|name|day|month|year|         id|\n",
      "+----+---+-----+----+-----------+\n",
      "|Ravi| 28|    1|2002|          0|\n",
      "| Abd| 23|    5|  81|          1|\n",
      "| Abd| 23|    5|  81| 8589934592|\n",
      "|John| 12|   12|   6|17179869184|\n",
      "|Rosy|  7|    8|  63|17179869185|\n",
      "+----+---+-----+----+-----------+\n",
      "\n",
      "root\n",
      " |-- name: string (nullable = true)\n",
      " |-- day: string (nullable = true)\n",
      " |-- month: string (nullable = true)\n",
      " |-- year: string (nullable = true)\n",
      " |-- id: long (nullable = false)\n",
      "\n",
      "root\n",
      " |-- name: string (nullable = true)\n",
      " |-- day: string (nullable = true)\n",
      " |-- month: string (nullable = true)\n",
      " |-- year: integer (nullable = true)\n",
      " |-- id: long (nullable = false)\n",
      "\n",
      "+----+---+-----+----+-----------+\n",
      "|name|day|month|year|         id|\n",
      "+----+---+-----+----+-----------+\n",
      "|Ravi| 28|    1|2002|          0|\n",
      "| Abd| 23|    5|1981|          1|\n",
      "| Abd| 23|    5|1981| 8589934592|\n",
      "|John| 12|   12|2006|17179869184|\n",
      "|Rosy|  7|    8|1963|17179869185|\n",
      "+----+---+-----+----+-----------+\n",
      "\n",
      "root\n",
      " |-- name: string (nullable = true)\n",
      " |-- day: string (nullable = true)\n",
      " |-- month: string (nullable = true)\n",
      " |-- year: integer (nullable = true)\n",
      " |-- id: long (nullable = false)\n",
      "\n"
     ]
    }
   ],
   "source": [
    "# changing the type from begining \n",
    "df1.show()\n",
    "df1.printSchema()\n",
    "df3 = df1.withColumn(\"day\", col(\"day\").cast(IntegerType())) \n",
    "df3 = df1.withColumn(\"month\", col(\"month\").cast(IntegerType())) \n",
    "df3 = df1.withColumn(\"year\", col(\"year\").cast(IntegerType()))\n",
    "df3.printSchema()\n",
    "\n",
    "df4 = df3.withColumn(\"year\", expr(\"\"\"\n",
    "case when year <21 then year + 2000\n",
    "     when year <100 then year + 1900\n",
    "     else year                           \n",
    "end \"\"\"\n",
    "))\n",
    "df4.show()\n",
    "df4.printSchema()\n"
   ]
  },
  {
   "cell_type": "code",
   "execution_count": 46,
   "metadata": {},
   "outputs": [
    {
     "name": "stdout",
     "output_type": "stream",
     "text": [
      "+----+---+-----+----+-----------+\n",
      "|name|day|month|year|         id|\n",
      "+----+---+-----+----+-----------+\n",
      "|Ravi| 28|    1|2002|          0|\n",
      "| Abd| 23|    5|1981|          1|\n",
      "| Abd| 23|    5|1981| 8589934592|\n",
      "|John| 12|   12|2006|17179869184|\n",
      "|Rosy|  7|    8|1963|17179869185|\n",
      "+----+---+-----+----+-----------+\n",
      "\n"
     ]
    }
   ],
   "source": [
    "# column object expression for case expression\n",
    "df5 = df4.withColumn(\"year\", \\\n",
    "                     when(col(\"year\") < 21, col(\"year\")+ 2000) \\\n",
    "                     .when(col(\"year\") < 100, col(\"year\")+ 1900) \\\n",
    "                     .otherwise(col(\"year\"))\n",
    "                     )\n",
    "df5.show()"
   ]
  },
  {
   "cell_type": "markdown",
   "metadata": {},
   "source": [
    "# 5. Adding/Remove columns columns to Dataframes\n"
   ]
  },
  {
   "cell_type": "code",
   "execution_count": 47,
   "metadata": {},
   "outputs": [
    {
     "name": "stdout",
     "output_type": "stream",
     "text": [
      "+----+---+-----+----+-----------+----------+\n",
      "|name|day|month|year|         id|       dob|\n",
      "+----+---+-----+----+-----------+----------+\n",
      "|Ravi| 28|    1|2002|          0|2002-01-28|\n",
      "| Abd| 23|    5|1981|          1|1981-05-23|\n",
      "| Abd| 23|    5|1981| 8589934592|1981-05-23|\n",
      "|John| 12|   12|2006|17179869184|2006-12-12|\n",
      "|Rosy|  7|    8|1963|17179869185|1963-08-07|\n",
      "+----+---+-----+----+-----------+----------+\n",
      "\n"
     ]
    }
   ],
   "source": [
    "# add column by combining day, month and year\n",
    "# using sql expression \n",
    "\n",
    "df6 = df5.withColumn(\"dob\", expr(\"to_date(concat(day, '/', month, '/', year), 'd/M/y')\"))\n",
    "df6.show()"
   ]
  },
  {
   "cell_type": "code",
   "execution_count": 48,
   "metadata": {},
   "outputs": [
    {
     "name": "stdout",
     "output_type": "stream",
     "text": [
      "+----+---+-----+----+-----------+----------+\n",
      "|name|day|month|year|         id|       dob|\n",
      "+----+---+-----+----+-----------+----------+\n",
      "|Ravi| 28|    1|2002|          0|2002-01-28|\n",
      "| Abd| 23|    5|1981|          1|1981-05-23|\n",
      "| Abd| 23|    5|1981| 8589934592|1981-05-23|\n",
      "|John| 12|   12|2006|17179869184|2006-12-12|\n",
      "|Rosy|  7|    8|1963|17179869185|1963-08-07|\n",
      "+----+---+-----+----+-----------+----------+\n",
      "\n"
     ]
    }
   ],
   "source": [
    "# using column expression\n",
    "df7 = df5.withColumn(\"dob\", to_date(expr(\"concat(day, '/', month, '/', year)\"), 'd/M/y'))\n",
    "df7.show()"
   ]
  },
  {
   "cell_type": "markdown",
   "metadata": {},
   "source": [
    "# 6. Dropping columns\n"
   ]
  },
  {
   "cell_type": "code",
   "execution_count": 49,
   "metadata": {},
   "outputs": [
    {
     "name": "stdout",
     "output_type": "stream",
     "text": [
      "+----+-----------+----------+\n",
      "|name|         id|       dob|\n",
      "+----+-----------+----------+\n",
      "|Ravi|          0|2002-01-28|\n",
      "| Abd|          1|1981-05-23|\n",
      "| Abd| 8589934592|1981-05-23|\n",
      "|John|17179869184|2006-12-12|\n",
      "|Rosy|17179869185|1963-08-07|\n",
      "+----+-----------+----------+\n",
      "\n"
     ]
    }
   ],
   "source": [
    "# removing a column\n",
    "df8 = df7.drop(\"day\", \"month\", \"year\")\n",
    "df8.show()"
   ]
  },
  {
   "cell_type": "markdown",
   "metadata": {},
   "source": [
    "# 7. Dropping duplicate rows\n"
   ]
  },
  {
   "cell_type": "code",
   "execution_count": 50,
   "metadata": {},
   "outputs": [
    {
     "name": "stdout",
     "output_type": "stream",
     "text": [
      "+----+-----------+----------+\n",
      "|name|         id|       dob|\n",
      "+----+-----------+----------+\n",
      "| Abd|          1|1981-05-23|\n",
      "|Ravi|          0|2002-01-28|\n",
      "|Rosy|17179869185|1963-08-07|\n",
      "|John|17179869184|2006-12-12|\n",
      "+----+-----------+----------+\n",
      "\n"
     ]
    }
   ],
   "source": [
    "df9 = df8.dropDuplicates([\"name\", \"dob\"])\n",
    "df9.show()"
   ]
  },
  {
   "cell_type": "markdown",
   "metadata": {},
   "source": [
    "# 8. Sorting Dataframes"
   ]
  },
  {
   "cell_type": "code",
   "execution_count": 51,
   "metadata": {},
   "outputs": [
    {
     "name": "stdout",
     "output_type": "stream",
     "text": [
      "+----+-----------+----------+\n",
      "|name|         id|       dob|\n",
      "+----+-----------+----------+\n",
      "|Rosy|17179869185|1963-08-07|\n",
      "| Abd|          1|1981-05-23|\n",
      "|Ravi|          0|2002-01-28|\n",
      "|John|17179869184|2006-12-12|\n",
      "+----+-----------+----------+\n",
      "\n"
     ]
    }
   ],
   "source": [
    "df10 = df9.sort(expr(\"dob desc\"))\n",
    "\n",
    "df10.show()"
   ]
  }
 ],
 "metadata": {
  "kernelspec": {
   "display_name": "Python 3",
   "language": "python",
   "name": "python3"
  },
  "language_info": {
   "codemirror_mode": {
    "name": "ipython",
    "version": 3
   },
   "file_extension": ".py",
   "mimetype": "text/x-python",
   "name": "python",
   "nbconvert_exporter": "python",
   "pygments_lexer": "ipython3",
   "version": "3.11.2"
  }
 },
 "nbformat": 4,
 "nbformat_minor": 2
}
