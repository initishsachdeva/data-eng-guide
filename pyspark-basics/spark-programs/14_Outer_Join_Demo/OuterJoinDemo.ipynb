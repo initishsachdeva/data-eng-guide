{
 "cells": [
  {
   "cell_type": "code",
   "execution_count": 7,
   "metadata": {},
   "outputs": [],
   "source": [
    "import os\n",
    "import sys\n",
    "from pyspark.sql import SparkSession\n",
    "from pyspark.sql.functions import expr\n",
    "from pyspark.sql.types import *\n",
    "\n",
    "os.environ['PYSPARK_PYTHON'] = sys.executable\n",
    "os.environ['PYSPARK_DRIVER_PYTHON'] = sys.executable\n",
    "\n",
    "spark = SparkSession.builder \\\n",
    "                    .appName(\"Join Demo\") \\\n",
    "                    .master(\"local[3]\") \\\n",
    "                    .getOrCreate()"
   ]
  },
  {
   "cell_type": "code",
   "execution_count": 8,
   "metadata": {},
   "outputs": [
    {
     "name": "stdout",
     "output_type": "stream",
     "text": [
      "+--------+-------+----------+---+\n",
      "|order_id|prod_id|unit_price|qty|\n",
      "+--------+-------+----------+---+\n",
      "|      01|     02|       350|  1|\n",
      "|      01|     04|       580|  1|\n",
      "|      01|     07|       320|  2|\n",
      "|      02|     03|       450|  1|\n",
      "|      02|     06|       220|  1|\n",
      "|      03|     01|       195|  1|\n",
      "|      04|     09|       270|  3|\n",
      "|      04|     08|       410|  2|\n",
      "|      05|     02|       350|  1|\n",
      "+--------+-------+----------+---+\n",
      "\n"
     ]
    }
   ],
   "source": [
    "orders_list = [(\"01\", \"02\", 350, 1),\n",
    "                   (\"01\", \"04\", 580, 1),\n",
    "                   (\"01\", \"07\", 320, 2),\n",
    "                   (\"02\", \"03\", 450, 1),\n",
    "                   (\"02\", \"06\", 220, 1),\n",
    "                   (\"03\", \"01\", 195, 1),\n",
    "                   (\"04\", \"09\", 270, 3),\n",
    "                   (\"04\", \"08\", 410, 2),\n",
    "                   (\"05\", \"02\", 350, 1)]\n",
    "order_df = spark.createDataFrame(orders_list).toDF(\"order_id\", \"prod_id\", \"unit_price\", \"qty\")\n",
    "order_df.show()"
   ]
  },
  {
   "cell_type": "code",
   "execution_count": 9,
   "metadata": {},
   "outputs": [
    {
     "name": "stdout",
     "output_type": "stream",
     "text": [
      "+-------+-------------------+----------+---+\n",
      "|prod_id|          prod_name|list_price|qty|\n",
      "+-------+-------------------+----------+---+\n",
      "|     01|       Scroll Mouse|       250| 20|\n",
      "|     02|      Optical Mouse|       350| 20|\n",
      "|     03|     Wireless Mouse|       450| 50|\n",
      "|     04|  Wireless Keyboard|       580| 50|\n",
      "|     05|  Standard Keyboard|       360| 10|\n",
      "|     06|16 GB Flash Storage|       240|100|\n",
      "|     07|32 GB Flash Storage|       320| 50|\n",
      "|     08|64 GB Flash Storage|       430| 25|\n",
      "+-------+-------------------+----------+---+\n",
      "\n"
     ]
    }
   ],
   "source": [
    "product_list = [(\"01\", \"Scroll Mouse\", 250, 20),\n",
    "                    (\"02\", \"Optical Mouse\", 350, 20),\n",
    "                    (\"03\", \"Wireless Mouse\", 450, 50),\n",
    "                    (\"04\", \"Wireless Keyboard\", 580, 50),\n",
    "                    (\"05\", \"Standard Keyboard\", 360, 10),\n",
    "                    (\"06\", \"16 GB Flash Storage\", 240, 100),\n",
    "                    (\"07\", \"32 GB Flash Storage\", 320, 50),\n",
    "                    (\"08\", \"64 GB Flash Storage\", 430, 25)]\n",
    "\n",
    "product_df = spark.createDataFrame(product_list).toDF(\"prod_id\", \"prod_name\", \"list_price\", \"qty\")\n",
    "product_df.show()"
   ]
  },
  {
   "cell_type": "code",
   "execution_count": 12,
   "metadata": {},
   "outputs": [
    {
     "name": "stdout",
     "output_type": "stream",
     "text": [
      "+--------+-------+----------+---+-------+-------------------+----------+----+\n",
      "|order_id|prod_id|unit_price|qty|prod_id|          prod_name|list_price| qty|\n",
      "+--------+-------+----------+---+-------+-------------------+----------+----+\n",
      "|      01|     07|       320|  2|     07|32 GB Flash Storage|       320|  50|\n",
      "|      01|     02|       350|  1|     02|      Optical Mouse|       350|  20|\n",
      "|      01|     04|       580|  1|     04|  Wireless Keyboard|       580|  50|\n",
      "|      02|     03|       450|  1|     03|     Wireless Mouse|       450|  50|\n",
      "|      02|     06|       220|  1|     06|16 GB Flash Storage|       240| 100|\n",
      "|      03|     01|       195|  1|     01|       Scroll Mouse|       250|  20|\n",
      "|      04|     09|       270|  3|   NULL|               NULL|      NULL|NULL|\n",
      "|      04|     08|       410|  2|     08|64 GB Flash Storage|       430|  25|\n",
      "|      05|     02|       350|  1|     02|      Optical Mouse|       350|  20|\n",
      "+--------+-------+----------+---+-------+-------------------+----------+----+\n",
      "\n"
     ]
    }
   ],
   "source": [
    "# outer join example\n",
    "join_expr = order_df.prod_id == product_df.prod_id\n",
    "order_df.join(product_df, join_expr, \"outer\") \\\n",
    "        .select(\"*\") \\\n",
    "        .sort(\"order_id\") \\\n",
    "        .show()"
   ]
  },
  {
   "cell_type": "code",
   "execution_count": 13,
   "metadata": {},
   "outputs": [
    {
     "name": "stdout",
     "output_type": "stream",
     "text": [
      "+--------+-------+----------+---+-------+-------------------+----------+----+\n",
      "|order_id|prod_id|unit_price|qty|prod_id|          prod_name|list_price| qty|\n",
      "+--------+-------+----------+---+-------+-------------------+----------+----+\n",
      "|      01|     07|       320|  2|     07|32 GB Flash Storage|       320|  50|\n",
      "|      01|     02|       350|  1|     02|      Optical Mouse|       350|  20|\n",
      "|      01|     04|       580|  1|     04|  Wireless Keyboard|       580|  50|\n",
      "|      02|     03|       450|  1|     03|     Wireless Mouse|       450|  50|\n",
      "|      02|     06|       220|  1|     06|16 GB Flash Storage|       240| 100|\n",
      "|      03|     01|       195|  1|     01|       Scroll Mouse|       250|  20|\n",
      "|      04|     09|       270|  3|   NULL|               NULL|      NULL|NULL|\n",
      "|      04|     08|       410|  2|     08|64 GB Flash Storage|       430|  25|\n",
      "|      05|     02|       350|  1|     02|      Optical Mouse|       350|  20|\n",
      "+--------+-------+----------+---+-------+-------------------+----------+----+\n",
      "\n"
     ]
    }
   ],
   "source": [
    "# outer join example\n",
    "join_expr = order_df.prod_id == product_df.prod_id\n",
    "order_df.join(product_df, join_expr, \"left\") \\\n",
    "        .select(\"*\") \\\n",
    "        .sort(\"order_id\") \\\n",
    "        .show()"
   ]
  },
  {
   "cell_type": "code",
   "execution_count": 14,
   "metadata": {},
   "outputs": [
    {
     "name": "stdout",
     "output_type": "stream",
     "text": [
      "+--------+-------+----------+----+-------+-------------------+----------+---+\n",
      "|order_id|prod_id|unit_price| qty|prod_id|          prod_name|list_price|qty|\n",
      "+--------+-------+----------+----+-------+-------------------+----------+---+\n",
      "|    NULL|   NULL|      NULL|NULL|     05|  Standard Keyboard|       360| 10|\n",
      "|      01|     02|       350|   1|     02|      Optical Mouse|       350| 20|\n",
      "|      01|     04|       580|   1|     04|  Wireless Keyboard|       580| 50|\n",
      "|      01|     07|       320|   2|     07|32 GB Flash Storage|       320| 50|\n",
      "|      02|     03|       450|   1|     03|     Wireless Mouse|       450| 50|\n",
      "|      02|     06|       220|   1|     06|16 GB Flash Storage|       240|100|\n",
      "|      03|     01|       195|   1|     01|       Scroll Mouse|       250| 20|\n",
      "|      04|     08|       410|   2|     08|64 GB Flash Storage|       430| 25|\n",
      "|      05|     02|       350|   1|     02|      Optical Mouse|       350| 20|\n",
      "+--------+-------+----------+----+-------+-------------------+----------+---+\n",
      "\n"
     ]
    }
   ],
   "source": [
    "# outer join example\n",
    "join_expr = order_df.prod_id == product_df.prod_id\n",
    "order_df.join(product_df, join_expr, \"right\") \\\n",
    "        .select(\"*\") \\\n",
    "        .sort(\"order_id\") \\\n",
    "        .show()"
   ]
  },
  {
   "cell_type": "code",
   "execution_count": 11,
   "metadata": {},
   "outputs": [
    {
     "name": "stdout",
     "output_type": "stream",
     "text": [
      "+--------+-------+-------------------+----------+----------+---+\n",
      "|order_id|prod_id|          prod_name|unit_price|list_price|qty|\n",
      "+--------+-------+-------------------+----------+----------+---+\n",
      "|      01|     07|32 GB Flash Storage|       320|       320|  2|\n",
      "|      01|     02|      Optical Mouse|       350|       350|  1|\n",
      "|      01|     04|  Wireless Keyboard|       580|       580|  1|\n",
      "|      02|     03|     Wireless Mouse|       450|       450|  1|\n",
      "|      02|     06|16 GB Flash Storage|       220|       240|  1|\n",
      "|      03|     01|       Scroll Mouse|       195|       250|  1|\n",
      "|      04|     09|                 09|       270|       270|  3|\n",
      "|      04|     08|64 GB Flash Storage|       410|       430|  2|\n",
      "|      05|     02|      Optical Mouse|       350|       350|  1|\n",
      "+--------+-------+-------------------+----------+----------+---+\n",
      "\n"
     ]
    }
   ],
   "source": [
    "join_expr = order_df.prod_id == product_df.prod_id\n",
    "\n",
    "product_renamed_df = product_df.withColumnRenamed(\"qty\", \"reorder_qty\")\n",
    "\n",
    "order_df.join(product_renamed_df, join_expr, \"left\") \\\n",
    "        .drop(product_renamed_df.prod_id) \\\n",
    "        .select(\"order_id\", \"prod_id\", \"prod_name\", \"unit_price\", \"list_price\", \"qty\") \\\n",
    "        .withColumn(\"prod_name\", expr(\"coalesce(prod_name, prod_id)\")) \\\n",
    "        .withColumn(\"list_price\", expr(\"coalesce(list_price, unit_price)\")) \\\n",
    "        .sort(\"order_id\") \\\n",
    "        .show()"
   ]
  }
 ],
 "metadata": {
  "kernelspec": {
   "display_name": "Python 3",
   "language": "python",
   "name": "python3"
  },
  "language_info": {
   "codemirror_mode": {
    "name": "ipython",
    "version": 3
   },
   "file_extension": ".py",
   "mimetype": "text/x-python",
   "name": "python",
   "nbconvert_exporter": "python",
   "pygments_lexer": "ipython3",
   "version": "3.11.2"
  }
 },
 "nbformat": 4,
 "nbformat_minor": 2
}
