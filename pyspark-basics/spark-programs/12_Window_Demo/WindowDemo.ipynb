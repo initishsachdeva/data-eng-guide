{
 "cells": [
  {
   "cell_type": "code",
   "execution_count": 4,
   "metadata": {},
   "outputs": [],
   "source": [
    "import os\n",
    "import sys\n",
    "from pyspark.sql import SparkSession, Window\n",
    "from pyspark.sql import functions as f\n",
    "from pyspark.sql.types import *\n",
    "\n",
    "os.environ['PYSPARK_PYTHON'] = sys.executable\n",
    "os.environ['PYSPARK_DRIVER_PYTHON'] = sys.executable\n",
    "\n",
    "spark = SparkSession.builder \\\n",
    "                    .appName(\"Window function Demo\") \\\n",
    "                    .master(\"local[3]\") \\\n",
    "                    .enableHiveSupport() \\\n",
    "                    .getOrCreate()"
   ]
  },
  {
   "cell_type": "code",
   "execution_count": 5,
   "metadata": {},
   "outputs": [
    {
     "name": "stdout",
     "output_type": "stream",
     "text": [
      "+---------+----------+-----------+-------------+------------+\n",
      "|  Country|WeekNumber|NumInvoices|TotalQuantity|InvoiceValue|\n",
      "+---------+----------+-----------+-------------+------------+\n",
      "|    Spain|        49|          1|           67|      174.72|\n",
      "|  Germany|        48|         11|         1795|     3309.75|\n",
      "|Lithuania|        48|          3|          622|     1598.06|\n",
      "|  Germany|        49|         12|         1852|     4521.39|\n",
      "|  Bahrain|        51|          1|           54|      205.74|\n",
      "+---------+----------+-----------+-------------+------------+\n",
      "only showing top 5 rows\n",
      "\n"
     ]
    }
   ],
   "source": [
    "summary_df = spark.read \\\n",
    "        .format(\"parquet\") \\\n",
    "        .load(\"summary.parquet\")\n",
    "summary_df.show(5)"
   ]
  },
  {
   "cell_type": "code",
   "execution_count": 6,
   "metadata": {},
   "outputs": [],
   "source": [
    "running_total_window = Window.partitionBy(\"Country\") \\\n",
    "        .orderBy(\"WeekNumber\") \\\n",
    "        .rowsBetween(Window.unboundedPreceding, Window.currentRow)"
   ]
  },
  {
   "cell_type": "code",
   "execution_count": 7,
   "metadata": {},
   "outputs": [
    {
     "name": "stdout",
     "output_type": "stream",
     "text": [
      "+---------------+----------+-----------+-------------+------------+------------------+\n",
      "|        Country|WeekNumber|NumInvoices|TotalQuantity|InvoiceValue|      RunningTotal|\n",
      "+---------------+----------+-----------+-------------+------------+------------------+\n",
      "|      Australia|        48|          1|          107|      358.25|            358.25|\n",
      "|      Australia|        49|          1|          214|       258.9|            617.15|\n",
      "|      Australia|        50|          2|          133|      387.95|1005.0999999999999|\n",
      "|        Austria|        50|          2|            3|      257.04|            257.04|\n",
      "|        Bahrain|        51|          1|           54|      205.74|            205.74|\n",
      "|        Belgium|        48|          1|          528|       346.1|             346.1|\n",
      "|        Belgium|        50|          2|          285|      625.16|            971.26|\n",
      "|        Belgium|        51|          2|          942|      838.65|1809.9099999999999|\n",
      "|Channel Islands|        49|          1|           80|      363.53|            363.53|\n",
      "|         Cyprus|        50|          1|          917|     1590.82|           1590.82|\n",
      "|        Denmark|        49|          1|          454|      1281.5|            1281.5|\n",
      "|           EIRE|        48|          7|         2822|     3147.23|           3147.23|\n",
      "|           EIRE|        49|          5|         1280|      3284.1|           6431.33|\n",
      "|           EIRE|        50|          5|         1184|     2321.78|           8753.11|\n",
      "|           EIRE|        51|          5|           95|      276.84|           9029.95|\n",
      "|        Finland|        50|          1|         1254|       892.8|             892.8|\n",
      "|         France|        48|          4|         1299|     2808.16|           2808.16|\n",
      "|         France|        49|          9|         2303|     4527.01|           7335.17|\n",
      "|         France|        50|          6|          529|      537.32|           7872.49|\n",
      "|         France|        51|          5|          847|     1702.87|           9575.36|\n",
      "+---------------+----------+-----------+-------------+------------+------------------+\n",
      "only showing top 20 rows\n",
      "\n"
     ]
    }
   ],
   "source": [
    "summary_df.withColumn(\"RunningTotal\",\n",
    "                          f.sum(\"InvoiceValue\").over(running_total_window)) \\\n",
    "        .show()"
   ]
  }
 ],
 "metadata": {
  "kernelspec": {
   "display_name": "Python 3",
   "language": "python",
   "name": "python3"
  },
  "language_info": {
   "codemirror_mode": {
    "name": "ipython",
    "version": 3
   },
   "file_extension": ".py",
   "mimetype": "text/x-python",
   "name": "python",
   "nbconvert_exporter": "python",
   "pygments_lexer": "ipython3",
   "version": "3.11.2"
  }
 },
 "nbformat": 4,
 "nbformat_minor": 2
}
