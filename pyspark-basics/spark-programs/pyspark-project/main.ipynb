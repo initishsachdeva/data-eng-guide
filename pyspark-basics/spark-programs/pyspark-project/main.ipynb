{
 "cells": [
  {
   "cell_type": "markdown",
   "metadata": {},
   "source": [
    "# Agenda - We have google playstore daatset containing information of differents apps installed, rating and versions and other details. We are going to do analysis and find out answers for below questions :\n",
    "1. find out top 10 reviews given to the apps\n",
    "2. Top 10 installed apps and distribution of type free or paid.\n",
    "3. Category wise distribution of installed apps\n",
    "4. Top paid apps\n",
    "5. Top rated apps."
   ]
  },
  {
   "cell_type": "code",
   "execution_count": 56,
   "metadata": {},
   "outputs": [],
   "source": [
    "import os\n",
    "import sys\n",
    "from pyspark.sql import SparkSession\n",
    "from lib import Utils, DataLoader\n",
    "from pyspark.sql.functions import regexp_replace, col\n",
    "from pyspark.sql.types import StringType, IntegerType, DoubleType\n",
    "\n",
    "\n",
    "os.environ['PYSPARK_PYTHON'] = sys.executable\n",
    "os.environ['PYSPARK_DRIVER_PYTHON'] = sys.executable"
   ]
  },
  {
   "cell_type": "code",
   "execution_count": 57,
   "metadata": {},
   "outputs": [],
   "source": [
    "spark = Utils.get_spark_session()"
   ]
  },
  {
   "cell_type": "code",
   "execution_count": 58,
   "metadata": {},
   "outputs": [],
   "source": [
    "google_play_store_df = DataLoader.read_data(spark, \"data/googleplaystore.csv\")"
   ]
  },
  {
   "cell_type": "code",
   "execution_count": 59,
   "metadata": {},
   "outputs": [
    {
     "data": {
      "text/plain": [
       "10841"
      ]
     },
     "execution_count": 59,
     "metadata": {},
     "output_type": "execute_result"
    }
   ],
   "source": [
    "google_play_store_df.count()"
   ]
  },
  {
   "cell_type": "code",
   "execution_count": 60,
   "metadata": {},
   "outputs": [
    {
     "name": "stdout",
     "output_type": "stream",
     "text": [
      "+--------------------+--------------+------+-------+----+--------+----+-----+--------------+------------+---------------+-----------+------------+\n",
      "|                 App|      Category|Rating|Reviews|Size|Installs|Type|Price|Content Rating|      Genres|   Last Updated|Current Ver| Android Ver|\n",
      "+--------------------+--------------+------+-------+----+--------+----+-----+--------------+------------+---------------+-----------+------------+\n",
      "|Photo Editor & Ca...|ART_AND_DESIGN|   4.1|    159| 19M| 10,000+|Free|    0|      Everyone|Art & Design|January 7, 2018|      1.0.0|4.0.3 and up|\n",
      "+--------------------+--------------+------+-------+----+--------+----+-----+--------------+------------+---------------+-----------+------------+\n",
      "only showing top 1 row\n",
      "\n"
     ]
    }
   ],
   "source": [
    "google_play_store_df.show(1)"
   ]
  },
  {
   "cell_type": "code",
   "execution_count": 61,
   "metadata": {},
   "outputs": [
    {
     "name": "stdout",
     "output_type": "stream",
     "text": [
      "root\n",
      " |-- App: string (nullable = true)\n",
      " |-- Category: string (nullable = true)\n",
      " |-- Rating: string (nullable = true)\n",
      " |-- Reviews: string (nullable = true)\n",
      " |-- Size: string (nullable = true)\n",
      " |-- Installs: string (nullable = true)\n",
      " |-- Type: string (nullable = true)\n",
      " |-- Price: string (nullable = true)\n",
      " |-- Content Rating: string (nullable = true)\n",
      " |-- Genres: string (nullable = true)\n",
      " |-- Last Updated: string (nullable = true)\n",
      " |-- Current Ver: string (nullable = true)\n",
      " |-- Android Ver: string (nullable = true)\n",
      "\n"
     ]
    }
   ],
   "source": [
    "# check schema\n",
    "google_play_store_df.printSchema()"
   ]
  },
  {
   "cell_type": "code",
   "execution_count": 62,
   "metadata": {},
   "outputs": [],
   "source": [
    "# data cleaning\n",
    "google_play_store_df= google_play_store_df.drop(\"size\", \"Content Rating\", \"Last Updated\", \"Current Ver\",\"Android Ver\")"
   ]
  },
  {
   "cell_type": "code",
   "execution_count": 63,
   "metadata": {},
   "outputs": [
    {
     "name": "stdout",
     "output_type": "stream",
     "text": [
      "+--------------------+--------------+------+-------+--------+----+-----+--------------------+\n",
      "|                 App|      Category|Rating|Reviews|Installs|Type|Price|              Genres|\n",
      "+--------------------+--------------+------+-------+--------+----+-----+--------------------+\n",
      "|Photo Editor & Ca...|ART_AND_DESIGN|   4.1|    159| 10,000+|Free|    0|        Art & Design|\n",
      "| Coloring book moana|ART_AND_DESIGN|   3.9|    967|500,000+|Free|    0|Art & Design;Pret...|\n",
      "+--------------------+--------------+------+-------+--------+----+-----+--------------------+\n",
      "only showing top 2 rows\n",
      "\n"
     ]
    }
   ],
   "source": [
    "# after cleaning the data or removing the columns which are not required\n",
    "google_play_store_df.show(2)"
   ]
  },
  {
   "cell_type": "code",
   "execution_count": 64,
   "metadata": {},
   "outputs": [
    {
     "name": "stdout",
     "output_type": "stream",
     "text": [
      "root\n",
      " |-- App: string (nullable = true)\n",
      " |-- Category: string (nullable = true)\n",
      " |-- Rating: string (nullable = true)\n",
      " |-- Reviews: string (nullable = true)\n",
      " |-- Installs: string (nullable = true)\n",
      " |-- Type: string (nullable = true)\n",
      " |-- Price: string (nullable = true)\n",
      " |-- Genres: string (nullable = true)\n",
      "\n"
     ]
    }
   ],
   "source": [
    "google_play_store_df.printSchema()"
   ]
  },
  {
   "cell_type": "code",
   "execution_count": 65,
   "metadata": {},
   "outputs": [],
   "source": [
    "# change the data type of columns which are incorrect\n",
    "google_play_store_df = google_play_store_df.withColumn(\"Reviews\", google_play_store_df['Reviews'].cast(IntegerType())) \n",
    "#google_play_store_df = google_play_store_df.withColumn(\"Installs\", regexp_replace(google_play_store_df[\"Installs\"], \"[^0-9]\", \"\"))\n",
    "google_play_store_df = google_play_store_df.withColumn(\"Installs\", regexp_replace(col(\"Installs\"), \"[^0-9]\", \"\"))\n",
    "google_play_store_df = google_play_store_df.withColumn(\"Installs\", google_play_store_df['Installs'].cast(IntegerType())) \n",
    "#google_play_store_df = google_play_store_df.withColumn(\"Price\", regexp_replace(google_play_store_df[\"Price\"], \"[$]\", \"\"))\n",
    "google_play_store_df = google_play_store_df.withColumn(\"Price\", regexp_replace(col(\"Price\"), \"[$]\", \"\"))\n",
    "google_play_store_df = google_play_store_df.withColumn(\"Price\", google_play_store_df['Price'].cast(IntegerType())) \n",
    "google_play_store_df = google_play_store_df.withColumn(\"Rating\", google_play_store_df['Rating'].cast(DoubleType())) \n"
   ]
  },
  {
   "cell_type": "code",
   "execution_count": 66,
   "metadata": {},
   "outputs": [
    {
     "name": "stdout",
     "output_type": "stream",
     "text": [
      "root\n",
      " |-- App: string (nullable = true)\n",
      " |-- Category: string (nullable = true)\n",
      " |-- Rating: double (nullable = true)\n",
      " |-- Reviews: integer (nullable = true)\n",
      " |-- Installs: integer (nullable = true)\n",
      " |-- Type: string (nullable = true)\n",
      " |-- Price: integer (nullable = true)\n",
      " |-- Genres: string (nullable = true)\n",
      "\n"
     ]
    }
   ],
   "source": [
    "google_play_store_df.printSchema()\n"
   ]
  },
  {
   "cell_type": "code",
   "execution_count": 67,
   "metadata": {},
   "outputs": [
    {
     "name": "stdout",
     "output_type": "stream",
     "text": [
      "+--------------------+--------------+------+-------+--------+----+-----+--------------------+\n",
      "|                 App|      Category|Rating|Reviews|Installs|Type|Price|              Genres|\n",
      "+--------------------+--------------+------+-------+--------+----+-----+--------------------+\n",
      "|Photo Editor & Ca...|ART_AND_DESIGN|   4.1|    159|   10000|Free|    0|        Art & Design|\n",
      "| Coloring book moana|ART_AND_DESIGN|   3.9|    967|  500000|Free|    0|Art & Design;Pret...|\n",
      "+--------------------+--------------+------+-------+--------+----+-----+--------------------+\n",
      "only showing top 2 rows\n",
      "\n"
     ]
    }
   ],
   "source": [
    "# after changing the data type\n",
    "google_play_store_df.show(2)"
   ]
  },
  {
   "cell_type": "code",
   "execution_count": 68,
   "metadata": {},
   "outputs": [],
   "source": [
    "# Now data is cleaned and is ready for analysis\n",
    "google_play_store_df.createOrReplaceTempView(\"apps\")"
   ]
  },
  {
   "cell_type": "code",
   "execution_count": 69,
   "metadata": {},
   "outputs": [
    {
     "name": "stdout",
     "output_type": "stream",
     "text": [
      "+--------------------+--------------+------+-------+--------+----+-----+--------------------+\n",
      "|                 App|      Category|Rating|Reviews|Installs|Type|Price|              Genres|\n",
      "+--------------------+--------------+------+-------+--------+----+-----+--------------------+\n",
      "|Photo Editor & Ca...|ART_AND_DESIGN|   4.1|    159|   10000|Free|    0|        Art & Design|\n",
      "| Coloring book moana|ART_AND_DESIGN|   3.9|    967|  500000|Free|    0|Art & Design;Pret...|\n",
      "|U Launcher Lite –...|ART_AND_DESIGN|   4.7|  87510| 5000000|Free|    0|        Art & Design|\n",
      "|Sketch - Draw & P...|ART_AND_DESIGN|   4.5| 215644|50000000|Free|    0|        Art & Design|\n",
      "|Pixel Draw - Numb...|ART_AND_DESIGN|   4.3|    967|  100000|Free|    0|Art & Design;Crea...|\n",
      "|Paper flowers ins...|ART_AND_DESIGN|   4.4|    167|   50000|Free|    0|        Art & Design|\n",
      "|Smoke Effect Phot...|ART_AND_DESIGN|   3.8|    178|   50000|Free|    0|        Art & Design|\n",
      "|    Infinite Painter|ART_AND_DESIGN|   4.1|  36815| 1000000|Free|    0|        Art & Design|\n",
      "|Garden Coloring Book|ART_AND_DESIGN|   4.4|  13791| 1000000|Free|    0|        Art & Design|\n",
      "|Kids Paint Free -...|ART_AND_DESIGN|   4.7|    121|   10000|Free|    0|Art & Design;Crea...|\n",
      "|Text on Photo - F...|ART_AND_DESIGN|   4.4|  13880| 1000000|Free|    0|        Art & Design|\n",
      "|Name Art Photo Ed...|ART_AND_DESIGN|   4.4|   8788| 1000000|Free|    0|        Art & Design|\n",
      "|Tattoo Name On My...|ART_AND_DESIGN|   4.2|  44829|10000000|Free|    0|        Art & Design|\n",
      "|Mandala Coloring ...|ART_AND_DESIGN|   4.6|   4326|  100000|Free|    0|        Art & Design|\n",
      "|3D Color Pixel by...|ART_AND_DESIGN|   4.4|   1518|  100000|Free|    0|        Art & Design|\n",
      "|Learn To Draw Kaw...|ART_AND_DESIGN|   3.2|     55|    5000|Free|    0|        Art & Design|\n",
      "|Photo Designer - ...|ART_AND_DESIGN|   4.7|   3632|  500000|Free|    0|        Art & Design|\n",
      "|350 Diy Room Deco...|ART_AND_DESIGN|   4.5|     27|   10000|Free|    0|        Art & Design|\n",
      "|FlipaClip - Carto...|ART_AND_DESIGN|   4.3| 194216| 5000000|Free|    0|        Art & Design|\n",
      "|        ibis Paint X|ART_AND_DESIGN|   4.6| 224399|10000000|Free|    0|        Art & Design|\n",
      "+--------------------+--------------+------+-------+--------+----+-----+--------------------+\n",
      "only showing top 20 rows\n",
      "\n"
     ]
    }
   ],
   "source": [
    "sql_df = spark.sql(\"select * from apps\")\n",
    "sql_df.show()"
   ]
  },
  {
   "cell_type": "code",
   "execution_count": 70,
   "metadata": {},
   "outputs": [
    {
     "data": {
      "text/plain": [
       "10841"
      ]
     },
     "execution_count": 70,
     "metadata": {},
     "output_type": "execute_result"
    }
   ],
   "source": [
    "sql_df.count()"
   ]
  },
  {
   "cell_type": "code",
   "execution_count": 71,
   "metadata": {},
   "outputs": [
    {
     "name": "stdout",
     "output_type": "stream",
     "text": [
      "+--------------------+------------+\n",
      "|                 app|sum(reviews)|\n",
      "+--------------------+------------+\n",
      "|           Instagram|   266241989|\n",
      "|  WhatsApp Messenger|   207348304|\n",
      "|      Clash of Clans|   179558781|\n",
      "|Messenger – Text ...|   169932272|\n",
      "|      Subway Surfers|   166331958|\n",
      "|    Candy Crush Saga|   156993136|\n",
      "|            Facebook|   156286514|\n",
      "|         8 Ball Pool|    99386198|\n",
      "|        Clash Royale|    92530298|\n",
      "|            Snapchat|    68045010|\n",
      "|     Viber Messenger|    56675481|\n",
      "|UC Browser - Fast...|    53140694|\n",
      "|             YouTube|    51278853|\n",
      "|        Temple Run 2|    48710930|\n",
      "|Sniper 3D Gun Sho...|    46022233|\n",
      "|      My Talking Tom|    44668928|\n",
      "|Duolingo: Learn L...|    44047832|\n",
      "|       Google Photos|    43423827|\n",
      "|Clean Master- Spa...|    42916526|\n",
      "|                 Pou|    41939801|\n",
      "+--------------------+------------+\n",
      "only showing top 20 rows\n",
      "\n"
     ]
    }
   ],
   "source": [
    "# 1. find out top 10 reviews given to the apps\n",
    "sql_df = spark.sql(\" select app, sum(reviews) from apps group by 1 order by 2 desc\")\n",
    "sql_df.show()"
   ]
  },
  {
   "cell_type": "code",
   "execution_count": 72,
   "metadata": {},
   "outputs": [
    {
     "name": "stdout",
     "output_type": "stream",
     "text": [
      "+--------------------+----+-------------+\n",
      "|                 app|type|sum(installs)|\n",
      "+--------------------+----+-------------+\n",
      "|      Subway Surfers|Free|   6000000000|\n",
      "|           Instagram|Free|   4000000000|\n",
      "|        Google Drive|Free|   4000000000|\n",
      "|            Hangouts|Free|   4000000000|\n",
      "|       Google Photos|Free|   4000000000|\n",
      "|         Google News|Free|   4000000000|\n",
      "|    Candy Crush Saga|Free|   3500000000|\n",
      "|  WhatsApp Messenger|Free|   3000000000|\n",
      "|               Gmail|Free|   3000000000|\n",
      "|        Temple Run 2|Free|   3000000000|\n",
      "|Skype - free IM &...|Free|   3000000000|\n",
      "|Google Chrome: Fa...|Free|   3000000000|\n",
      "|Messenger – Text ...|Free|   3000000000|\n",
      "|Maps - Navigate &...|Free|   3000000000|\n",
      "|     Viber Messenger|Free|   2500000000|\n",
      "|   Google Play Games|Free|   2000000000|\n",
      "|            Facebook|Free|   2000000000|\n",
      "|            Snapchat|Free|   2000000000|\n",
      "|imo free video ca...|Free|   2000000000|\n",
      "|  Google Street View|Free|   2000000000|\n",
      "+--------------------+----+-------------+\n",
      "only showing top 20 rows\n",
      "\n"
     ]
    }
   ],
   "source": [
    "# 2. Top 10 installed apps and distribution of type free or paid.\n",
    "sql_df = spark.sql(\" select app, type , sum(installs) from apps group by 1,2 order by 3 desc\")\n",
    "sql_df.show()\n"
   ]
  },
  {
   "cell_type": "code",
   "execution_count": 73,
   "metadata": {},
   "outputs": [
    {
     "name": "stdout",
     "output_type": "stream",
     "text": [
      "+-------------------+-------------+\n",
      "|           category|sum(installs)|\n",
      "+-------------------+-------------+\n",
      "|               GAME|  35086024415|\n",
      "|      COMMUNICATION|  32647276251|\n",
      "|       PRODUCTIVITY|  14176091369|\n",
      "|             SOCIAL|  14069867902|\n",
      "|              TOOLS|  11452771915|\n",
      "|             FAMILY|  10258263505|\n",
      "|        PHOTOGRAPHY|  10088247655|\n",
      "| NEWS_AND_MAGAZINES|   7496317760|\n",
      "|   TRAVEL_AND_LOCAL|   6868887146|\n",
      "|      VIDEO_PLAYERS|   6222002720|\n",
      "|           SHOPPING|   3247848785|\n",
      "|      ENTERTAINMENT|   2869160000|\n",
      "|    PERSONALIZATION|   2325494782|\n",
      "|BOOKS_AND_REFERENCE|   1921469576|\n",
      "|             SPORTS|   1751174498|\n",
      "| HEALTH_AND_FITNESS|   1582072512|\n",
      "|           BUSINESS|   1001914865|\n",
      "|            FINANCE|    876648734|\n",
      "|          EDUCATION|    871452000|\n",
      "|MAPS_AND_NAVIGATION|    719281890|\n",
      "+-------------------+-------------+\n",
      "only showing top 20 rows\n",
      "\n"
     ]
    }
   ],
   "source": [
    "# 3. Category wise distribution of installed apps\n",
    "sql_df = spark.sql(\" select category, sum(installs) from apps group by 1 order by 2 desc\")\n",
    "sql_df.show()"
   ]
  },
  {
   "cell_type": "code",
   "execution_count": 74,
   "metadata": {},
   "outputs": [
    {
     "name": "stdout",
     "output_type": "stream",
     "text": [
      "+--------------------+----------+\n",
      "|                 app|sum(price)|\n",
      "+--------------------+----------+\n",
      "|I'm Rich - Trump ...|       400|\n",
      "|   I Am Rich Premium|       399|\n",
      "|  I AM RICH PRO PLUS|       399|\n",
      "|I'm Rich/Eu sou R...|       399|\n",
      "|      I am Rich Plus|       399|\n",
      "|most expensive ap...|       399|\n",
      "|       I Am Rich Pro|       399|\n",
      "|  I am rich(premium)|       399|\n",
      "|           I am Rich|       399|\n",
      "|          I am Rich!|       399|\n",
      "|         💎 I'm rich|       399|\n",
      "|I am rich (Most e...|       399|\n",
      "|           I am rich|       399|\n",
      "|         Eu Sou Rico|       394|\n",
      "|           I Am Rich|       389|\n",
      "| I am extremely Rich|       379|\n",
      "|       I am rich VIP|       299|\n",
      "|        EP Cook Book|       200|\n",
      "|Vargo Anesthesia ...|       158|\n",
      "|       cronometra-br|       154|\n",
      "+--------------------+----------+\n",
      "only showing top 20 rows\n",
      "\n"
     ]
    }
   ],
   "source": [
    "# 4. Top paid apps\n",
    "sql_df = spark.sql(\" select app, sum(price)  from apps where type = 'Paid' group by 1 order by 2 desc\")\n",
    "sql_df.show()"
   ]
  },
  {
   "cell_type": "code",
   "execution_count": 78,
   "metadata": {},
   "outputs": [
    {
     "name": "stdout",
     "output_type": "stream",
     "text": [
      "+--------------------+------+\n",
      "|                 app|rating|\n",
      "+--------------------+------+\n",
      "|Photo Editor & Ca...|   4.1|\n",
      "| Coloring book moana|   3.9|\n",
      "|U Launcher Lite –...|   4.7|\n",
      "|Sketch - Draw & P...|   4.5|\n",
      "|Pixel Draw - Numb...|   4.3|\n",
      "|Paper flowers ins...|   4.4|\n",
      "|Smoke Effect Phot...|   3.8|\n",
      "|    Infinite Painter|   4.1|\n",
      "|Garden Coloring Book|   4.4|\n",
      "|Kids Paint Free -...|   4.7|\n",
      "|Text on Photo - F...|   4.4|\n",
      "|Name Art Photo Ed...|   4.4|\n",
      "|Tattoo Name On My...|   4.2|\n",
      "|Mandala Coloring ...|   4.6|\n",
      "|3D Color Pixel by...|   4.4|\n",
      "|Learn To Draw Kaw...|   3.2|\n",
      "|Photo Designer - ...|   4.7|\n",
      "|350 Diy Room Deco...|   4.5|\n",
      "|FlipaClip - Carto...|   4.3|\n",
      "|        ibis Paint X|   4.6|\n",
      "+--------------------+------+\n",
      "only showing top 20 rows\n",
      "\n"
     ]
    }
   ],
   "source": [
    "# 5. Top rated apps.\n",
    "sql_df = spark.sql(\"select app, rating from apps\")\n",
    "sql_df.show()"
   ]
  }
 ],
 "metadata": {
  "kernelspec": {
   "display_name": "Python 3",
   "language": "python",
   "name": "python3"
  },
  "language_info": {
   "codemirror_mode": {
    "name": "ipython",
    "version": 3
   },
   "file_extension": ".py",
   "mimetype": "text/x-python",
   "name": "python",
   "nbconvert_exporter": "python",
   "pygments_lexer": "ipython3",
   "version": "3.11.2"
  }
 },
 "nbformat": 4,
 "nbformat_minor": 2
}
