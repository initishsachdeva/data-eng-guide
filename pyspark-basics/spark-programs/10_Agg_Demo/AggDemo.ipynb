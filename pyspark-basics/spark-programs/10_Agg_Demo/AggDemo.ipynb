{
 "cells": [
  {
   "cell_type": "code",
   "execution_count": 3,
   "metadata": {},
   "outputs": [],
   "source": [
    "import os\n",
    "import sys\n",
    "from pyspark.sql import SparkSession\n",
    "from pyspark.sql import functions as f\n",
    "from pyspark.sql.types import *\n",
    "\n",
    "os.environ['PYSPARK_PYTHON'] = sys.executable\n",
    "os.environ['PYSPARK_DRIVER_PYTHON'] = sys.executable\n",
    "\n",
    "spark = SparkSession.builder \\\n",
    "                    .appName(\"Spark Aggregate Function Demo\") \\\n",
    "                    .master(\"local[3]\") \\\n",
    "                    .enableHiveSupport() \\\n",
    "                    .getOrCreate()"
   ]
  },
  {
   "cell_type": "code",
   "execution_count": 4,
   "metadata": {},
   "outputs": [
    {
     "name": "stdout",
     "output_type": "stream",
     "text": [
      "+---------+---------+--------------------+--------+---------------+---------+----------+--------------+\n",
      "|InvoiceNo|StockCode|         Description|Quantity|    InvoiceDate|UnitPrice|CustomerID|       Country|\n",
      "+---------+---------+--------------------+--------+---------------+---------+----------+--------------+\n",
      "|   536365|     NULL|WHITE HANGING HEA...|       6|01-12-2010 8.26|     2.55|     17850|United Kingdom|\n",
      "|   536365|    71053| WHITE METAL LANTERN|       6|01-12-2010 8.26|     3.39|     17850|United Kingdom|\n",
      "|   536365|   84406B|CREAM CUPID HEART...|       8|01-12-2010 8.26|     2.75|     17850|United Kingdom|\n",
      "|   536365|   84029G|KNITTED UNION FLA...|       6|01-12-2010 8.26|     3.39|     17850|United Kingdom|\n",
      "|   536365|   84029E|RED WOOLLY HOTTIE...|       6|01-12-2010 8.26|     3.39|     17850|United Kingdom|\n",
      "+---------+---------+--------------------+--------+---------------+---------+----------+--------------+\n",
      "only showing top 5 rows\n",
      "\n"
     ]
    }
   ],
   "source": [
    "invoice_df = spark.read \\\n",
    "        .format(\"csv\") \\\n",
    "        .option(\"header\", \"true\") \\\n",
    "        .option(\"inferSchema\", \"true\") \\\n",
    "        .load(\"invoices.csv\")\n",
    "invoice_df.show(5)"
   ]
  },
  {
   "cell_type": "code",
   "execution_count": 11,
   "metadata": {},
   "outputs": [
    {
     "name": "stdout",
     "output_type": "stream",
     "text": [
      "+-------+-------------+-----------------+-------------------------+\n",
      "|Count *|sum(Quantity)|   avg(UnitPrice)|count(DISTINCT InvoiceNo)|\n",
      "+-------+-------------+-----------------+-------------------------+\n",
      "| 541909|      5176450|4.611113626088481|                    25900|\n",
      "+-------+-------------+-----------------+-------------------------+\n",
      "\n"
     ]
    }
   ],
   "source": [
    "invoice_df.select(f.count(\"*\").alias(\"Count *\"),\n",
    "                  f.sum(\"Quantity\"),\n",
    "                  f.avg(\"UnitPrice\"),\n",
    "                  f.count_distinct(\"InvoiceNo\")).show()"
   ]
  },
  {
   "cell_type": "code",
   "execution_count": 12,
   "metadata": {},
   "outputs": [
    {
     "name": "stdout",
     "output_type": "stream",
     "text": [
      "+-------+-----------+-------------+-----------------+\n",
      "|count 1|count field|TotalQuantity|         AvgPrice|\n",
      "+-------+-----------+-------------+-----------------+\n",
      "| 541909|     541908|      5176450|4.611113626086849|\n",
      "+-------+-----------+-------------+-----------------+\n",
      "\n"
     ]
    }
   ],
   "source": [
    "# using sql expressions \n",
    "invoice_df.selectExpr(\n",
    "        \"count(1) as `count 1`\",\n",
    "        \"count(StockCode) as `count field`\",\n",
    "        \"sum(Quantity) as TotalQuantity\",\n",
    "        \"avg(UnitPrice) as AvgPrice\"\n",
    "    ).show()"
   ]
  },
  {
   "cell_type": "code",
   "execution_count": 13,
   "metadata": {},
   "outputs": [
    {
     "name": "stdout",
     "output_type": "stream",
     "text": [
      "+--------------+---------+-------------+------------+\n",
      "|       Country|InvoiceNo|TotalQuantity|InvoiceValue|\n",
      "+--------------+---------+-------------+------------+\n",
      "|United Kingdom|   536446|          329|      440.89|\n",
      "|United Kingdom|   536508|          216|      155.52|\n",
      "|United Kingdom|   537018|           -3|         0.0|\n",
      "|United Kingdom|   537401|          -24|         0.0|\n",
      "|United Kingdom|   537811|           74|      268.86|\n",
      "|United Kingdom|  C537824|           -2|       -14.9|\n",
      "|United Kingdom|   538895|          370|      247.38|\n",
      "|United Kingdom|   540453|          341|      302.45|\n",
      "|United Kingdom|   541291|          217|      305.81|\n",
      "|United Kingdom|   542551|           -1|         0.0|\n",
      "|United Kingdom|   542576|           -1|         0.0|\n",
      "|United Kingdom|   542628|            9|      132.35|\n",
      "|United Kingdom|   542886|          199|      320.51|\n",
      "|United Kingdom|   542907|           75|      313.85|\n",
      "|United Kingdom|   543131|          134|       164.1|\n",
      "|United Kingdom|   543189|          102|      153.94|\n",
      "|United Kingdom|   543265|           -4|         0.0|\n",
      "|        Cyprus|   544574|          173|      320.69|\n",
      "|United Kingdom|   545077|           24|       10.08|\n",
      "|United Kingdom|   545300|          116|      323.16|\n",
      "+--------------+---------+-------------+------------+\n",
      "only showing top 20 rows\n",
      "\n"
     ]
    }
   ],
   "source": [
    "# Grouping based on country\n",
    "invoice_df.createOrReplaceTempView(\"sales\")\n",
    "summary_sql = spark.sql(\"\"\"\n",
    "          SELECT Country, InvoiceNo,\n",
    "                sum(Quantity) as TotalQuantity,\n",
    "                round(sum(Quantity*UnitPrice),2) as InvoiceValue\n",
    "          FROM sales\n",
    "          GROUP BY Country, InvoiceNo\"\"\")\n",
    "\n",
    "summary_sql.show()"
   ]
  },
  {
   "cell_type": "code",
   "execution_count": 14,
   "metadata": {},
   "outputs": [
    {
     "name": "stdout",
     "output_type": "stream",
     "text": [
      "+--------------+---------+-------------+------------+----------------+\n",
      "|       Country|InvoiceNo|TotalQuantity|InvoiceValue|InvoiceValueExpr|\n",
      "+--------------+---------+-------------+------------+----------------+\n",
      "|United Kingdom|   536446|          329|      440.89|          440.89|\n",
      "|United Kingdom|   536508|          216|      155.52|          155.52|\n",
      "|United Kingdom|   537018|           -3|         0.0|             0.0|\n",
      "|United Kingdom|   537401|          -24|         0.0|             0.0|\n",
      "|United Kingdom|   537811|           74|      268.86|          268.86|\n",
      "|United Kingdom|  C537824|           -2|       -14.9|           -14.9|\n",
      "|United Kingdom|   538895|          370|      247.38|          247.38|\n",
      "|United Kingdom|   540453|          341|      302.45|          302.45|\n",
      "|United Kingdom|   541291|          217|      305.81|          305.81|\n",
      "|United Kingdom|   542551|           -1|         0.0|             0.0|\n",
      "|United Kingdom|   542576|           -1|         0.0|             0.0|\n",
      "|United Kingdom|   542628|            9|      132.35|          132.35|\n",
      "|United Kingdom|   542886|          199|      320.51|          320.51|\n",
      "|United Kingdom|   542907|           75|      313.85|          313.85|\n",
      "|United Kingdom|   543131|          134|       164.1|           164.1|\n",
      "|United Kingdom|   543189|          102|      153.94|          153.94|\n",
      "|United Kingdom|   543265|           -4|         0.0|             0.0|\n",
      "|        Cyprus|   544574|          173|      320.69|          320.69|\n",
      "|United Kingdom|   545077|           24|       10.08|           10.08|\n",
      "|United Kingdom|   545300|          116|      323.16|          323.16|\n",
      "+--------------+---------+-------------+------------+----------------+\n",
      "only showing top 20 rows\n",
      "\n"
     ]
    }
   ],
   "source": [
    "# using previous example as refernce, performing aggregate functions using dataframe\n",
    "summary_df = invoice_df \\\n",
    "        .groupBy(\"Country\", \"InvoiceNo\") \\\n",
    "        .agg(f.sum(\"Quantity\").alias(\"TotalQuantity\"),\n",
    "             f.round(f.sum(f.expr(\"Quantity * UnitPrice\")), 2).alias(\"InvoiceValue\"),\n",
    "             f.expr(\"round(sum(Quantity * UnitPrice),2) as InvoiceValueExpr\")\n",
    "             )\n",
    "\n",
    "summary_df.show()"
   ]
  }
 ],
 "metadata": {
  "kernelspec": {
   "display_name": "Python 3",
   "language": "python",
   "name": "python3"
  },
  "language_info": {
   "codemirror_mode": {
    "name": "ipython",
    "version": 3
   },
   "file_extension": ".py",
   "mimetype": "text/x-python",
   "name": "python",
   "nbconvert_exporter": "python",
   "pygments_lexer": "ipython3",
   "version": "3.11.2"
  }
 },
 "nbformat": 4,
 "nbformat_minor": 2
}
